{
 "nbformat": 4,
 "nbformat_minor": 0,
 "metadata": {
  "colab": {
   "name": "tutorial_LunarLanderContinuous-v2.ipynb",
   "provenance": [],
   "collapsed_sections": [],
   "include_colab_link": true
  },
  "kernelspec": {
   "name": "python3",
   "display_name": "Python 3"
  },
  "accelerator": "GPU"
 },
 "cells": [
  {
   "cell_type": "markdown",
   "metadata": {
    "id": "view-in-github",
    "colab_type": "text",
    "pycharm": {
     "name": "#%% md\n"
    }
   },
   "source": [
    "<a href=\"https://colab.research.google.com/github/AI4Finance-Foundation/ElegantRL/blob/master/tutorial_LunarLanderContinuous_v2.ipynb\" target=\"_parent\"><img src=\"https://colab.research.google.com/assets/colab-badge.svg\" alt=\"Open In Colab\"/></a>"
   ]
  },
  {
   "cell_type": "markdown",
   "metadata": {
    "id": "c1gUG3OCJ5GS",
    "pycharm": {
     "name": "#%% md\n"
    }
   },
   "source": [
    "# **LunarLanderContinuous-v2 Example in ElegantRL**\n",
    "\n",
    "\n",
    "\n",
    "\n"
   ]
  },
  {
   "cell_type": "markdown",
   "metadata": {
    "id": "FGXyBBvL0dR2",
    "pycharm": {
     "name": "#%% md\n"
    }
   },
   "source": [
    "# **Task Description**\n",
    "\n",
    "[LunarLanderContinuous-v2](https://gym.openai.com/envs/LunarLanderContinuous-v2) is a robotic control task. The goal is to get a Lander to rest on the landing pad. If lander moves away from landing pad it loses reward back. Episode finishes if the lander crashes or comes to rest, receiving additional -100 or +100 points."
   ]
  },
  {
   "cell_type": "markdown",
   "metadata": {
    "id": "DbamGVHC3AeW",
    "pycharm": {
     "name": "#%% md\n"
    }
   },
   "source": [
    "# **Part 1: Install ElegantRL**"
   ]
  },
  {
   "cell_type": "code",
   "metadata": {
    "id": "U35bhkUqOqbS",
    "colab": {
     "base_uri": "https://localhost:8080/"
    },
    "outputId": "0acfcd5b-ebfe-4dba-dd65-10f5e9a3a58e",
    "pycharm": {
     "name": "#%%\n"
    }
   },
   "source": [
    "# install elegantrl library\n",
    "!pip install git+https://github.com/AI4Finance-LLC/ElegantRL.git"
   ],
   "execution_count": 1,
   "outputs": [
    {
     "output_type": "stream",
     "name": "stdout",
     "text": [
      "Collecting git+https://github.com/AI4Finance-LLC/ElegantRL.git\n",
      "  Cloning https://github.com/AI4Finance-LLC/ElegantRL.git to /tmp/pip-req-build-q0f_9pry\n",
      "  Running command git clone -q https://github.com/AI4Finance-LLC/ElegantRL.git /tmp/pip-req-build-q0f_9pry\n",
      "Requirement already satisfied: gym in /usr/local/lib/python3.7/dist-packages (from elegantrl==0.3.3) (0.17.3)\n",
      "Requirement already satisfied: matplotlib in /usr/local/lib/python3.7/dist-packages (from elegantrl==0.3.3) (3.2.2)\n",
      "Requirement already satisfied: numpy in /usr/local/lib/python3.7/dist-packages (from elegantrl==0.3.3) (1.19.5)\n",
      "Collecting pybullet\n",
      "  Downloading pybullet-3.2.1-cp37-cp37m-manylinux_2_5_x86_64.manylinux1_x86_64.whl (90.8 MB)\n",
      "\u001B[K     |████████████████████████████████| 90.8 MB 291 bytes/s \n",
      "\u001B[?25hRequirement already satisfied: torch in /usr/local/lib/python3.7/dist-packages (from elegantrl==0.3.3) (1.10.0+cu111)\n",
      "Requirement already satisfied: opencv-python in /usr/local/lib/python3.7/dist-packages (from elegantrl==0.3.3) (4.1.2.30)\n",
      "Collecting box2d-py\n",
      "  Downloading box2d_py-2.3.8-cp37-cp37m-manylinux1_x86_64.whl (448 kB)\n",
      "\u001B[K     |████████████████████████████████| 448 kB 70.5 MB/s \n",
      "\u001B[?25hRequirement already satisfied: scipy in /usr/local/lib/python3.7/dist-packages (from gym->elegantrl==0.3.3) (1.4.1)\n",
      "Requirement already satisfied: pyglet<=1.5.0,>=1.4.0 in /usr/local/lib/python3.7/dist-packages (from gym->elegantrl==0.3.3) (1.5.0)\n",
      "Requirement already satisfied: cloudpickle<1.7.0,>=1.2.0 in /usr/local/lib/python3.7/dist-packages (from gym->elegantrl==0.3.3) (1.3.0)\n",
      "Requirement already satisfied: future in /usr/local/lib/python3.7/dist-packages (from pyglet<=1.5.0,>=1.4.0->gym->elegantrl==0.3.3) (0.16.0)\n",
      "Requirement already satisfied: cycler>=0.10 in /usr/local/lib/python3.7/dist-packages (from matplotlib->elegantrl==0.3.3) (0.11.0)\n",
      "Requirement already satisfied: pyparsing!=2.0.4,!=2.1.2,!=2.1.6,>=2.0.1 in /usr/local/lib/python3.7/dist-packages (from matplotlib->elegantrl==0.3.3) (3.0.6)\n",
      "Requirement already satisfied: kiwisolver>=1.0.1 in /usr/local/lib/python3.7/dist-packages (from matplotlib->elegantrl==0.3.3) (1.3.2)\n",
      "Requirement already satisfied: python-dateutil>=2.1 in /usr/local/lib/python3.7/dist-packages (from matplotlib->elegantrl==0.3.3) (2.8.2)\n",
      "Requirement already satisfied: six>=1.5 in /usr/local/lib/python3.7/dist-packages (from python-dateutil>=2.1->matplotlib->elegantrl==0.3.3) (1.15.0)\n",
      "Requirement already satisfied: typing-extensions in /usr/local/lib/python3.7/dist-packages (from torch->elegantrl==0.3.3) (3.10.0.2)\n",
      "Building wheels for collected packages: elegantrl\n",
      "  Building wheel for elegantrl (setup.py) ... \u001B[?25l\u001B[?25hdone\n",
      "  Created wheel for elegantrl: filename=elegantrl-0.3.3-py3-none-any.whl size=183567 sha256=a2b2116b1f175b6cad721c1dfeba30620a45100aa1a7e65fe9c19df809fe68d3\n",
      "  Stored in directory: /tmp/pip-ephem-wheel-cache-ltz2mxds/wheels/52/9a/b3/08c8a0b5be22a65da0132538c05e7e961b1253c90d6845e0c6\n",
      "Successfully built elegantrl\n",
      "Installing collected packages: pybullet, box2d-py, elegantrl\n",
      "Successfully installed box2d-py-2.3.8 elegantrl-0.3.3 pybullet-3.2.1\n"
     ]
    }
   ]
  },
  {
   "cell_type": "markdown",
   "metadata": {
    "id": "UVdmpnK_3Zcn",
    "pycharm": {
     "name": "#%% md\n"
    }
   },
   "source": [
    "# **Part 2: Import Packages**\n",
    "\n",
    "\n",
    "*   **elegantrl**\n",
    "*   **OpenAI Gym**: a toolkit for developing and comparing reinforcement learning algorithms.\n",
    "\n"
   ]
  },
  {
   "cell_type": "code",
   "source": [
    "import gym\n",
    "from elegantrl.agents import AgentModSAC\n",
    "from elegantrl.train.config import get_gym_env_args, Arguments\n",
    "from elegantrl.train.run import *\n",
    "\n",
    "gym.logger.set_level(40)  # Block warning"
   ],
   "metadata": {
    "id": "AAPdjovQrTpE",
    "pycharm": {
     "name": "#%%\n"
    }
   },
   "execution_count": 2,
   "outputs": []
  },
  {
   "cell_type": "markdown",
   "source": [
    "# **Part 3: Get environment information**"
   ],
   "metadata": {
    "id": "z2Ik5cDoyPGU",
    "pycharm": {
     "name": "#%% md\n"
    }
   }
  },
  {
   "cell_type": "code",
   "source": [
    "get_gym_env_args(gym.make(\"LunarLanderContinuous-v2\"), if_print=False)"
   ],
   "metadata": {
    "colab": {
     "base_uri": "https://localhost:8080/"
    },
    "id": "wwkZXiHtyV6f",
    "outputId": "24720b42-25ca-4491-8fff-c6e7470dedf5",
    "pycharm": {
     "name": "#%%\n"
    }
   },
   "execution_count": 3,
   "outputs": [
    {
     "name": "stdout",
     "output_type": "stream",
     "text": [
      "WARNING: env.action_space.high [1. 1.]\n"
     ]
    },
    {
     "data": {
      "text/plain": "{'env_num': 1,\n 'env_name': 'LunarLanderContinuous-v2',\n 'max_step': 1000,\n 'state_dim': 8,\n 'action_dim': 2,\n 'if_discrete': False,\n 'target_return': 200}"
     },
     "execution_count": 3,
     "metadata": {},
     "output_type": "execute_result"
    }
   ]
  },
  {
   "cell_type": "markdown",
   "metadata": {
    "id": "3n8zcgcn14uq",
    "pycharm": {
     "name": "#%% md\n"
    }
   },
   "source": [
    "# **Part 4: Specify Agent and Environment**\n",
    "\n",
    "*   **agent**: chooses a agent (DRL algorithm) from a set of agents in the [directory](https://github.com/AI4Finance-Foundation/ElegantRL/tree/master/elegantrl/agents).\n",
    "*   **env_func**: the function to create an environment, in this case, we use gym.make to create BipedalWalker-v3.\n",
    "*   **env_args**: the environment information.\n"
   ]
  },
  {
   "cell_type": "code",
   "metadata": {
    "id": "E03f6cTeajK4",
    "pycharm": {
     "name": "#%%\n"
    }
   },
   "source": [
    "env_func = gym.make\n",
    "env_args = {\n",
    "    \"env_num\": 1,\n",
    "    \"env_name\": \"LunarLanderContinuous-v2\",\n",
    "    \"max_step\": 1000,\n",
    "    \"state_dim\": 8,\n",
    "    \"action_dim\": 2,\n",
    "    \"if_discrete\": False,\n",
    "    \"target_return\": 200,\n",
    "    \"id\": \"LunarLanderContinuous-v2\",\n",
    "}\n",
    "args = Arguments(AgentModSAC, env_func=env_func, env_args=env_args)"
   ],
   "execution_count": 4,
   "outputs": []
  },
  {
   "cell_type": "markdown",
   "source": [
    "# **Part 4: Specify hyper-parameters**\n",
    "A list of hyper-parameters is available [here](https://elegantrl.readthedocs.io/en/latest/api/config.html)."
   ],
   "metadata": {
    "id": "rcFcUkwfzHLE",
    "pycharm": {
     "name": "#%% md\n"
    }
   }
  },
  {
   "cell_type": "code",
   "source": [
    "args.target_step = args.max_step\n",
    "args.gamma = 0.99\n",
    "args.eval_times = 2**5\n",
    "args.random_seed = 2022"
   ],
   "metadata": {
    "id": "9WCAcmIfzGyE",
    "pycharm": {
     "name": "#%%\n"
    }
   },
   "execution_count": 5,
   "outputs": []
  },
  {
   "cell_type": "markdown",
   "metadata": {
    "id": "z1j5kLHF2dhJ",
    "pycharm": {
     "name": "#%% md\n"
    }
   },
   "source": [
    "# **Part 5: Train and Evaluate the Agent**\n",
    "\n",
    "\n",
    "\n",
    "\n"
   ]
  },
  {
   "cell_type": "code",
   "metadata": {
    "id": "KGOPSD6da23k",
    "colab": {
     "base_uri": "https://localhost:8080/"
    },
    "outputId": "84157a77-bcfa-406d-c25e-d3dea0e8fc20",
    "pycharm": {
     "name": "#%%\n"
    }
   },
   "source": [
    "train_and_evaluate(args)"
   ],
   "execution_count": 6,
   "outputs": [
    {
     "name": "stdout",
     "output_type": "stream",
     "text": [
      "| Arguments Remove cwd: ./result/LunarLanderContinuous-v2_ModSAC_2022\n"
     ]
    },
    {
     "ename": "TypeError",
     "evalue": "__init__() takes 4 positional arguments but 5 were given",
     "output_type": "error",
     "traceback": [
      "\u001B[1;31m---------------------------------------------------------------------------\u001B[0m",
      "\u001B[1;31mTypeError\u001B[0m                                 Traceback (most recent call last)",
      "Input \u001B[1;32mIn [6]\u001B[0m, in \u001B[0;36m<cell line: 1>\u001B[1;34m()\u001B[0m\n\u001B[1;32m----> 1\u001B[0m \u001B[43mtrain_and_evaluate\u001B[49m\u001B[43m(\u001B[49m\u001B[43margs\u001B[49m\u001B[43m)\u001B[49m\n",
      "File \u001B[1;32mC:\\My program\\ElegantRL-master\\elegantrl\\train\\run.py:58\u001B[0m, in \u001B[0;36mtrain_and_evaluate\u001B[1;34m(args)\u001B[0m\n\u001B[0;32m     55\u001B[0m env \u001B[38;5;241m=\u001B[39m args\u001B[38;5;241m.\u001B[39menv\n\u001B[0;32m     56\u001B[0m steps \u001B[38;5;241m=\u001B[39m \u001B[38;5;241m0\u001B[39m\n\u001B[1;32m---> 58\u001B[0m agent \u001B[38;5;241m=\u001B[39m \u001B[43minit_agent\u001B[49m\u001B[43m(\u001B[49m\u001B[43margs\u001B[49m\u001B[43m,\u001B[49m\u001B[43m \u001B[49m\u001B[43mgpu_id\u001B[49m\u001B[43m,\u001B[49m\u001B[43m \u001B[49m\u001B[43menv\u001B[49m\u001B[43m)\u001B[49m\n\u001B[0;32m     59\u001B[0m buffer \u001B[38;5;241m=\u001B[39m init_buffer(args, gpu_id)\n\u001B[0;32m     60\u001B[0m evaluator \u001B[38;5;241m=\u001B[39m init_evaluator(args, gpu_id)\n",
      "File \u001B[1;32mC:\\My program\\ElegantRL-master\\elegantrl\\train\\run.py:13\u001B[0m, in \u001B[0;36minit_agent\u001B[1;34m(args, gpu_id, env)\u001B[0m\n\u001B[0;32m     12\u001B[0m \u001B[38;5;28;01mdef\u001B[39;00m \u001B[38;5;21minit_agent\u001B[39m(args, gpu_id: \u001B[38;5;28mint\u001B[39m, env\u001B[38;5;241m=\u001B[39m\u001B[38;5;28;01mNone\u001B[39;00m):\n\u001B[1;32m---> 13\u001B[0m     agent \u001B[38;5;241m=\u001B[39m \u001B[43margs\u001B[49m\u001B[38;5;241;43m.\u001B[39;49m\u001B[43magent\u001B[49m\u001B[43m(\u001B[49m\u001B[43margs\u001B[49m\u001B[38;5;241;43m.\u001B[39;49m\u001B[43mnet_dim\u001B[49m\u001B[43m,\u001B[49m\u001B[43m \u001B[49m\u001B[43margs\u001B[49m\u001B[38;5;241;43m.\u001B[39;49m\u001B[43mstate_dim\u001B[49m\u001B[43m,\u001B[49m\u001B[43m \u001B[49m\u001B[43margs\u001B[49m\u001B[38;5;241;43m.\u001B[39;49m\u001B[43maction_dim\u001B[49m\u001B[43m,\u001B[49m\u001B[43m \u001B[49m\u001B[43mgpu_id\u001B[49m\u001B[38;5;241;43m=\u001B[39;49m\u001B[43mgpu_id\u001B[49m\u001B[43m,\u001B[49m\u001B[43m \u001B[49m\u001B[43margs\u001B[49m\u001B[38;5;241;43m=\u001B[39;49m\u001B[43margs\u001B[49m\u001B[43m)\u001B[49m\n\u001B[0;32m     14\u001B[0m     agent\u001B[38;5;241m.\u001B[39msave_or_load_agent(args\u001B[38;5;241m.\u001B[39mcwd, if_save\u001B[38;5;241m=\u001B[39m\u001B[38;5;28;01mFalse\u001B[39;00m)\n\u001B[0;32m     16\u001B[0m     \u001B[38;5;28;01mif\u001B[39;00m env \u001B[38;5;129;01mis\u001B[39;00m \u001B[38;5;129;01mnot\u001B[39;00m \u001B[38;5;28;01mNone\u001B[39;00m:\n",
      "File \u001B[1;32mC:\\My program\\ElegantRL-master\\elegantrl\\agents\\AgentSAC.py:88\u001B[0m, in \u001B[0;36mAgentModSAC.__init__\u001B[1;34m(self, net_dim, state_dim, action_dim, gpu_id, args)\u001B[0m\n\u001B[0;32m     86\u001B[0m \u001B[38;5;28mself\u001B[39m\u001B[38;5;241m.\u001B[39mact_class \u001B[38;5;241m=\u001B[39m \u001B[38;5;28mgetattr\u001B[39m(\u001B[38;5;28mself\u001B[39m, \u001B[38;5;124m\"\u001B[39m\u001B[38;5;124mact_class\u001B[39m\u001B[38;5;124m\"\u001B[39m, ActorFixSAC)\n\u001B[0;32m     87\u001B[0m \u001B[38;5;28mself\u001B[39m\u001B[38;5;241m.\u001B[39mcri_class \u001B[38;5;241m=\u001B[39m \u001B[38;5;28mgetattr\u001B[39m(\u001B[38;5;28mself\u001B[39m, \u001B[38;5;124m\"\u001B[39m\u001B[38;5;124mcri_class\u001B[39m\u001B[38;5;124m\"\u001B[39m, CriticTwin)\n\u001B[1;32m---> 88\u001B[0m \u001B[38;5;28;43msuper\u001B[39;49m\u001B[43m(\u001B[49m\u001B[43m)\u001B[49m\u001B[38;5;241;43m.\u001B[39;49m\u001B[38;5;21;43m__init__\u001B[39;49m\u001B[43m(\u001B[49m\u001B[43mnet_dim\u001B[49m\u001B[43m,\u001B[49m\u001B[43m \u001B[49m\u001B[43mstate_dim\u001B[49m\u001B[43m,\u001B[49m\u001B[43m \u001B[49m\u001B[43maction_dim\u001B[49m\u001B[43m,\u001B[49m\u001B[43m \u001B[49m\u001B[43mgpu_id\u001B[49m\u001B[43m,\u001B[49m\u001B[43m \u001B[49m\u001B[43margs\u001B[49m\u001B[43m)\u001B[49m\n\u001B[0;32m     89\u001B[0m \u001B[38;5;28mself\u001B[39m\u001B[38;5;241m.\u001B[39mobj_c \u001B[38;5;241m=\u001B[39m (\u001B[38;5;241m-\u001B[39mnp\u001B[38;5;241m.\u001B[39mlog(\u001B[38;5;241m0.5\u001B[39m)) \u001B[38;5;241m*\u001B[39m\u001B[38;5;241m*\u001B[39m \u001B[38;5;241m0.5\u001B[39m  \u001B[38;5;66;03m# for reliable_lambda\u001B[39;00m\n\u001B[0;32m     91\u001B[0m \u001B[38;5;28mself\u001B[39m\u001B[38;5;241m.\u001B[39mlambda_a_log_std \u001B[38;5;241m=\u001B[39m \u001B[38;5;28mgetattr\u001B[39m(args, \u001B[38;5;124m\"\u001B[39m\u001B[38;5;124mlambda_a_log_std\u001B[39m\u001B[38;5;124m\"\u001B[39m, \u001B[38;5;241m2\u001B[39m\u001B[38;5;241m*\u001B[39m\u001B[38;5;241m*\u001B[39m\u001B[38;5;241m-\u001B[39m\u001B[38;5;241m4\u001B[39m)\n",
      "File \u001B[1;32mC:\\My program\\ElegantRL-master\\elegantrl\\agents\\AgentSAC.py:17\u001B[0m, in \u001B[0;36mAgentSAC.__init__\u001B[1;34m(self, net_dim, state_dim, action_dim, gpu_id, args)\u001B[0m\n\u001B[0;32m     15\u001B[0m args\u001B[38;5;241m.\u001B[39mif_act_target \u001B[38;5;241m=\u001B[39m \u001B[38;5;28mgetattr\u001B[39m(args, \u001B[38;5;124m'\u001B[39m\u001B[38;5;124mif_act_target\u001B[39m\u001B[38;5;124m'\u001B[39m, \u001B[38;5;28;01mFalse\u001B[39;00m)\n\u001B[0;32m     16\u001B[0m args\u001B[38;5;241m.\u001B[39mif_cri_target \u001B[38;5;241m=\u001B[39m \u001B[38;5;28mgetattr\u001B[39m(args, \u001B[38;5;124m'\u001B[39m\u001B[38;5;124mif_cri_target\u001B[39m\u001B[38;5;124m'\u001B[39m, \u001B[38;5;28;01mTrue\u001B[39;00m)\n\u001B[1;32m---> 17\u001B[0m \u001B[38;5;28;43msuper\u001B[39;49m\u001B[43m(\u001B[49m\u001B[43m)\u001B[49m\u001B[38;5;241;43m.\u001B[39;49m\u001B[38;5;21;43m__init__\u001B[39;49m\u001B[43m(\u001B[49m\u001B[43mnet_dim\u001B[49m\u001B[43m,\u001B[49m\u001B[43m \u001B[49m\u001B[43mstate_dim\u001B[49m\u001B[43m,\u001B[49m\u001B[43m \u001B[49m\u001B[43maction_dim\u001B[49m\u001B[43m,\u001B[49m\u001B[43m \u001B[49m\u001B[43mgpu_id\u001B[49m\u001B[43m,\u001B[49m\u001B[43m \u001B[49m\u001B[43margs\u001B[49m\u001B[43m)\u001B[49m\n\u001B[0;32m     19\u001B[0m \u001B[38;5;28mself\u001B[39m\u001B[38;5;241m.\u001B[39malpha_log \u001B[38;5;241m=\u001B[39m torch\u001B[38;5;241m.\u001B[39mtensor(\n\u001B[0;32m     20\u001B[0m     (\u001B[38;5;241m-\u001B[39mnp\u001B[38;5;241m.\u001B[39mlog(action_dim),), dtype\u001B[38;5;241m=\u001B[39mtorch\u001B[38;5;241m.\u001B[39mfloat32, requires_grad\u001B[38;5;241m=\u001B[39m\u001B[38;5;28;01mTrue\u001B[39;00m, device\u001B[38;5;241m=\u001B[39m\u001B[38;5;28mself\u001B[39m\u001B[38;5;241m.\u001B[39mdevice\n\u001B[0;32m     21\u001B[0m )  \u001B[38;5;66;03m# trainable parameter\u001B[39;00m\n\u001B[0;32m     22\u001B[0m \u001B[38;5;28mself\u001B[39m\u001B[38;5;241m.\u001B[39malpha_optim \u001B[38;5;241m=\u001B[39m torch\u001B[38;5;241m.\u001B[39moptim\u001B[38;5;241m.\u001B[39mAdam((\u001B[38;5;28mself\u001B[39m\u001B[38;5;241m.\u001B[39malpha_log,), lr\u001B[38;5;241m=\u001B[39m\u001B[38;5;241m0.005\u001B[39m)\n",
      "File \u001B[1;32mC:\\My program\\ElegantRL-master\\elegantrl\\agents\\AgentBase.py:47\u001B[0m, in \u001B[0;36mAgentBase.__init__\u001B[1;34m(self, net_dim, state_dim, action_dim, gpu_id, args)\u001B[0m\n\u001B[0;32m     45\u001B[0m act_class \u001B[38;5;241m=\u001B[39m \u001B[38;5;28mgetattr\u001B[39m(\u001B[38;5;28mself\u001B[39m, \u001B[38;5;124m\"\u001B[39m\u001B[38;5;124mact_class\u001B[39m\u001B[38;5;124m\"\u001B[39m, \u001B[38;5;28;01mNone\u001B[39;00m)\n\u001B[0;32m     46\u001B[0m cri_class \u001B[38;5;241m=\u001B[39m \u001B[38;5;28mgetattr\u001B[39m(\u001B[38;5;28mself\u001B[39m, \u001B[38;5;124m\"\u001B[39m\u001B[38;5;124mcri_class\u001B[39m\u001B[38;5;124m\"\u001B[39m, \u001B[38;5;28;01mNone\u001B[39;00m)\n\u001B[1;32m---> 47\u001B[0m \u001B[38;5;28mself\u001B[39m\u001B[38;5;241m.\u001B[39mact \u001B[38;5;241m=\u001B[39m \u001B[43mact_class\u001B[49m\u001B[43m(\u001B[49m\u001B[43mnet_dim\u001B[49m\u001B[43m,\u001B[49m\u001B[43m \u001B[49m\u001B[38;5;28;43mself\u001B[39;49m\u001B[38;5;241;43m.\u001B[39;49m\u001B[43mnum_layer\u001B[49m\u001B[43m,\u001B[49m\u001B[43m \u001B[49m\u001B[43mstate_dim\u001B[49m\u001B[43m,\u001B[49m\u001B[43m \u001B[49m\u001B[43maction_dim\u001B[49m\u001B[43m)\u001B[49m\u001B[38;5;241m.\u001B[39mto(\u001B[38;5;28mself\u001B[39m\u001B[38;5;241m.\u001B[39mdevice)\n\u001B[0;32m     48\u001B[0m \u001B[38;5;28mself\u001B[39m\u001B[38;5;241m.\u001B[39mcri \u001B[38;5;241m=\u001B[39m cri_class(net_dim, \u001B[38;5;28mself\u001B[39m\u001B[38;5;241m.\u001B[39mnum_layer, state_dim, action_dim)\u001B[38;5;241m.\u001B[39mto(\u001B[38;5;28mself\u001B[39m\u001B[38;5;241m.\u001B[39mdevice) \\\n\u001B[0;32m     49\u001B[0m     \u001B[38;5;28;01mif\u001B[39;00m cri_class \u001B[38;5;28;01melse\u001B[39;00m \u001B[38;5;28mself\u001B[39m\u001B[38;5;241m.\u001B[39mact\n\u001B[0;32m     51\u001B[0m \u001B[38;5;124;03m'''optimizer'''\u001B[39;00m\n",
      "\u001B[1;31mTypeError\u001B[0m: __init__() takes 4 positional arguments but 5 were given"
     ]
    }
   ]
  },
  {
   "cell_type": "markdown",
   "metadata": {
    "id": "JPXOxLSqh5cP",
    "pycharm": {
     "name": "#%% md\n"
    }
   },
   "source": [
    "Understanding the above results::\n",
    "*   **Step**: the total training steps.\n",
    "*  **MaxR**: the maximum reward.\n",
    "*   **avgR**: the average of the rewards.\n",
    "*   **stdR**: the standard deviation of the rewards.\n",
    "*   **objA**: the objective function value of Actor Network (Policy Network).\n",
    "*   **objC**: the objective function value (Q-value)  of Critic Network (Value Network)."
   ]
  }
 ]
}